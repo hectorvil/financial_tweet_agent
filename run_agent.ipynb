{
 "cells": [
  {
   "cell_type": "markdown",
   "metadata": {},
   "source": [
    "# 🚀 Launcher – Financial-Tweet Agent\n",
    "Instala dependencias, exporta claves opcionales, lanza Streamlit y crea un túnel ngrok."
   ]
  },
  {
   "cell_type": "code",
   "execution_count": null,
   "metadata": { "id": "install" },
   "outputs": [],
   "source": [
    "%%bash\n",
    "if [ ! -f venv_installed.marker ]; then\n",
    "  echo \"🔧 Instalando dependencias…\"\n",
    "  pip install --upgrade pip\n",
    "  pip install --no-cache-dir -r requirements.txt\n",
    "  touch venv_installed.marker\n",
    "else\n",
    "  echo \" Dependencias ya instaladas\"\n",
    "fi"
   ]
  },
  {
   "cell_type": "code",
   "execution_count": null,
   "metadata": { "id": "env" },
   "outputs": [],
   "source": [
    "import os, getpass, subprocess, textwrap\n",
    "\n",
    "def maybe_set(var: str, prompt: str):\n",
    "    if not os.getenv(var):\n",
    "        val = getpass.getpass(f\"{prompt} (enter para omitir): \")\n",
    "        if val:\n",
    "            os.environ[var] = val\n",
    "\n",
    "maybe_set(\"OPENAI_API_KEY\", \"OPENAI_API_KEY\")\n",
    "maybe_set(\"TWITTER_BEARER\", \"TWITTER_BEARER\")\n",
    "\n",
    "# Exportamos los que existan al entorno de bash (para Streamlit)\n",
    "bash_exports = []\n",
    "for var in (\"OPENAI_API_KEY\", \"TWITTER_BEARER\"):\n",
    "    if os.getenv(var):\n",
    "        bash_exports.append(f'export {var}=\"{os.environ[var]}\"')\n",
    "\n",
    "script = \"\\n\".join(bash_exports)\n",
    "if script:\n",
    "    subprocess.run([\"bash\", \"-c\", script])\n",
    "else:\n",
    "    print(\" Claves omitidas: el chat GPT o la búsqueda en vivo pueden mostrar advertencias.\")"
   ]
  },
  {
   "cell_type": "code",
   "execution_count": null,
   "metadata": { "id": "streamlit" },
   "outputs": [],
   "source": [
    "%%bash --bg\n",
    "pkill -f \"streamlit run\" || true\n",
    "nohup streamlit run app.py \\\n",
    "      --server.headless true \\\n",
    "      --server.address 0.0.0.0 \\\n",
    "      --server.port 8501 \\\n",
    "      --server.enableCORS false \\\n",
    "      --server.enableXsrfProtection false \\\n",
    "      &> streamlit_logs.txt &"
   ]
  },
  {
   "cell_type": "code",
   "execution_count": null,
   "metadata": { "id": "ngrok" },
   "outputs": [],
   "source": [
    "from pyngrok import ngrok\n",
    "import time, requests\n",
    "\n",
    "ngrok.kill()\n",
    "public = ngrok.connect(8501, \"http\")\n",
    "print(\"Dashboard URL:\", public.public_url)\n",
    "\n",
    "# Health-check local\n",
    "for _ in range(10):\n",
    "    try:\n",
    "        if requests.get(\"http://localhost:8501/_stcore/health\").ok:\n",
    "            print(\"✅ Streamlit vivo ✔️\")\n",
    "            break\n",
    "    except requests.ConnectionError:\n",
    "        time.sleep(1)\n",
    "else:\n",
    "    print(\"  No hubo respuesta en 10 s — revisa streamlit_logs.txt\")"
   ]
  },
  {
   "cell_type": "markdown",
   "metadata": {},
   "source": [
    "## ⏹ Cómo detener\n",
    "```bash\n",
    "pkill -f \"streamlit run\"\n",
    "ngrok kill\n",
    "```"
   ]
  }
 ],
 "metadata": {
  "kernelspec": { "display_name": "Python 3", "language": "python", "name": "python3" },
  "language_info": { "name": "python", "version": "3.11" }
 },
 "nbformat": 4,
 "nbformat_minor": 5
}
